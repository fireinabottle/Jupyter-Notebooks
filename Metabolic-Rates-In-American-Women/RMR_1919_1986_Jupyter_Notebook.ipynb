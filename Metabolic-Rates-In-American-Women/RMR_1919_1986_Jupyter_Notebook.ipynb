{
 "cells": [
  {
   "cell_type": "code",
   "execution_count": 80,
   "metadata": {},
   "outputs": [],
   "source": [
    "import pandas as pd\n",
    "import numpy as np\n",
    "from scipy.stats import f_oneway\n",
    "\n",
    "df= pd.read_csv('Resting_Metabolic_Rate,_Women_1919-1992.csv')\n"
   ]
  },
  {
   "cell_type": "code",
   "execution_count": 42,
   "metadata": {},
   "outputs": [
    {
     "data": {
      "text/html": [
       "<div>\n",
       "<style scoped>\n",
       "    .dataframe tbody tr th:only-of-type {\n",
       "        vertical-align: middle;\n",
       "    }\n",
       "\n",
       "    .dataframe tbody tr th {\n",
       "        vertical-align: top;\n",
       "    }\n",
       "\n",
       "    .dataframe thead th {\n",
       "        text-align: right;\n",
       "    }\n",
       "</style>\n",
       "<table border=\"1\" class=\"dataframe\">\n",
       "  <thead>\n",
       "    <tr style=\"text-align: right;\">\n",
       "      <th></th>\n",
       "      <th>Yr</th>\n",
       "      <th>Number</th>\n",
       "      <th>Age</th>\n",
       "      <th>Height</th>\n",
       "      <th>Weight</th>\n",
       "      <th>BMI</th>\n",
       "      <th>RMR</th>\n",
       "      <th>IS_ATHLETE</th>\n",
       "      <th>RMR/Kg</th>\n",
       "      <th>Unnamed: 9</th>\n",
       "    </tr>\n",
       "  </thead>\n",
       "  <tbody>\n",
       "    <tr>\n",
       "      <th>0</th>\n",
       "      <td>1992</td>\n",
       "      <td>21</td>\n",
       "      <td>18</td>\n",
       "      <td>166</td>\n",
       "      <td>62.3</td>\n",
       "      <td>22.6</td>\n",
       "      <td>1402</td>\n",
       "      <td>*</td>\n",
       "      <td>22.5</td>\n",
       "      <td>NaN</td>\n",
       "    </tr>\n",
       "    <tr>\n",
       "      <th>1</th>\n",
       "      <td>1992</td>\n",
       "      <td>20</td>\n",
       "      <td>20</td>\n",
       "      <td>170</td>\n",
       "      <td>62.1</td>\n",
       "      <td>21.5</td>\n",
       "      <td>1574</td>\n",
       "      <td>NaN</td>\n",
       "      <td>25.3</td>\n",
       "      <td>NaN</td>\n",
       "    </tr>\n",
       "    <tr>\n",
       "      <th>2</th>\n",
       "      <td>1992</td>\n",
       "      <td>40</td>\n",
       "      <td>21</td>\n",
       "      <td>169</td>\n",
       "      <td>110.2</td>\n",
       "      <td>38.6</td>\n",
       "      <td>2074</td>\n",
       "      <td>NaN</td>\n",
       "      <td>18.8</td>\n",
       "      <td>NaN</td>\n",
       "    </tr>\n",
       "    <tr>\n",
       "      <th>3</th>\n",
       "      <td>1992</td>\n",
       "      <td>2</td>\n",
       "      <td>23</td>\n",
       "      <td>157</td>\n",
       "      <td>48.1</td>\n",
       "      <td>19.5</td>\n",
       "      <td>1372</td>\n",
       "      <td>NaN</td>\n",
       "      <td>28.5</td>\n",
       "      <td>NaN</td>\n",
       "    </tr>\n",
       "    <tr>\n",
       "      <th>4</th>\n",
       "      <td>1992</td>\n",
       "      <td>4</td>\n",
       "      <td>23</td>\n",
       "      <td>158</td>\n",
       "      <td>50.8</td>\n",
       "      <td>20.3</td>\n",
       "      <td>1146</td>\n",
       "      <td>*</td>\n",
       "      <td>22.6</td>\n",
       "      <td>NaN</td>\n",
       "    </tr>\n",
       "  </tbody>\n",
       "</table>\n",
       "</div>"
      ],
      "text/plain": [
       "     Yr  Number  Age  Height  Weight   BMI   RMR IS_ATHLETE  RMR/Kg  \\\n",
       "0  1992      21   18     166    62.3  22.6  1402          *    22.5   \n",
       "1  1992      20   20     170    62.1  21.5  1574        NaN    25.3   \n",
       "2  1992      40   21     169   110.2  38.6  2074        NaN    18.8   \n",
       "3  1992       2   23     157    48.1  19.5  1372        NaN    28.5   \n",
       "4  1992       4   23     158    50.8  20.3  1146          *    22.6   \n",
       "\n",
       "   Unnamed: 9  \n",
       "0         NaN  \n",
       "1         NaN  \n",
       "2         NaN  \n",
       "3         NaN  \n",
       "4         NaN  "
      ]
     },
     "execution_count": 42,
     "metadata": {},
     "output_type": "execute_result"
    }
   ],
   "source": [
    "df.head()"
   ]
  },
  {
   "cell_type": "markdown",
   "metadata": {},
   "source": [
    "I cut and pasted this all from several solutions posted to Stack Overflow.  I probably should kame a function to eliminate some of the redundancy.  Sue me."
   ]
  },
  {
   "cell_type": "code",
   "execution_count": 97,
   "metadata": {},
   "outputs": [
    {
     "name": "stderr",
     "output_type": "stream",
     "text": [
      "<ipython-input-97-c3f77b068d04>:4: SettingWithCopyWarning: \n",
      "A value is trying to be set on a copy of a slice from a DataFrame.\n",
      "Try using .loc[row_indexer,col_indexer] = value instead\n",
      "\n",
      "See the caveats in the documentation: https://pandas.pydata.org/pandas-docs/stable/user_guide/indexing.html#returning-a-view-versus-a-copy\n",
      "  young_women_1992['trendline'] = p(young_women_1992['BMI'])\n",
      "<ipython-input-97-c3f77b068d04>:16: SettingWithCopyWarning: \n",
      "A value is trying to be set on a copy of a slice from a DataFrame.\n",
      "Try using .loc[row_indexer,col_indexer] = value instead\n",
      "\n",
      "See the caveats in the documentation: https://pandas.pydata.org/pandas-docs/stable/user_guide/indexing.html#returning-a-view-versus-a-copy\n",
      "  young_women_1919['trendline'] = p(young_women_1919['BMI'])\n",
      "<ipython-input-97-c3f77b068d04>:27: SettingWithCopyWarning: \n",
      "A value is trying to be set on a copy of a slice from a DataFrame.\n",
      "Try using .loc[row_indexer,col_indexer] = value instead\n",
      "\n",
      "See the caveats in the documentation: https://pandas.pydata.org/pandas-docs/stable/user_guide/indexing.html#returning-a-view-versus-a-copy\n",
      "  young_athletes_1992['trendline'] = p(young_athletes_1992['BMI'])\n"
     ]
    },
    {
     "data": {
      "text/plain": [
       "<AxesSubplot:xlabel='BMI', ylabel='RMR/Kg'>"
      ]
     },
     "execution_count": 97,
     "metadata": {},
     "output_type": "execute_result"
    },
    {
     "data": {
      "image/png": "[encoded data removed]",
      "text/plain": [
       "<Figure size 432x288 with 1 Axes>"
      ]
     },
     "metadata": {
      "needs_background": "light"
     },
     "output_type": "display_data"
    }
   ],
   "source": [
    "young_women_1992 = df[(df['Yr']==1992) & (df['Age']<30) & (df['IS_ATHLETE']!=\"*\")]\n",
    "z = np.polyfit(x=young_women_1992['BMI'], y=young_women_1992['RMR/Kg'], deg=1)\n",
    "p = np.poly1d(z)\n",
    "young_women_1992['trendline'] = p(young_women_1992['BMI'])\n",
    "young_women_1992.head()\n",
    "plot1 = young_women_1992.plot(x='BMI', y='RMR/Kg', kind='scatter', label=\"1986\")\n",
    "plot1.legend(title = \"RMR Per Kg of Body Weight Vs. BMI\")\n",
    "young_women_1992.set_index('BMI', inplace=True)\n",
    "young_women_1992.trendline.sort_index(ascending=False).plot(ax=plot1)\n",
    "\n",
    "\n",
    "young_women_1919 = df[(df['Yr']==1919) & (df['Age']<30)]\n",
    "\n",
    "z = np.polyfit(x=young_women_1919['BMI'], y=young_women_1919['RMR/Kg'], deg=1)\n",
    "p = np.poly1d(z)\n",
    "young_women_1919['trendline'] = p(young_women_1919['BMI'])\n",
    "young_women_1919.head()\n",
    "plot2 = young_women_1919.plot(x='BMI', y='RMR/Kg', kind='scatter', color='yellow', label=\"1919\", ax=plot1)\n",
    "\n",
    "young_women_1919.set_index('BMI', inplace=True)\n",
    "young_women_1919.trendline.sort_index(ascending=False).plot(ax=plot1)\n",
    "\n",
    "\n",
    "young_athletes_1992 = df[(df['Yr']==1992) & (df['Age']<30) & (df['IS_ATHLETE']==\"*\")]\n",
    "z = np.polyfit(x=young_athletes_1992['BMI'], y=young_athletes_1992['RMR/Kg'], deg=1)\n",
    "p = np.poly1d(z)\n",
    "young_athletes_1992['trendline'] = p(young_athletes_1992['BMI'])\n",
    "plot1 = young_athletes_1992.plot(x='BMI', y='RMR/Kg', kind='scatter', color=\"green\", label='1986 - Athletes', ax=plot1)\n",
    "young_athletes_1992.set_index('BMI', inplace=True)\n",
    "young_athletes_1992.trendline.sort_index(ascending=False).plot(ax=plot1)\n"
   ]
  },
  {
   "cell_type": "code",
   "execution_count": 95,
   "metadata": {},
   "outputs": [
    {
     "name": "stderr",
     "output_type": "stream",
     "text": [
      "<ipython-input-95-c3090d9f8a12>:4: SettingWithCopyWarning: \n",
      "A value is trying to be set on a copy of a slice from a DataFrame.\n",
      "Try using .loc[row_indexer,col_indexer] = value instead\n",
      "\n",
      "See the caveats in the documentation: https://pandas.pydata.org/pandas-docs/stable/user_guide/indexing.html#returning-a-view-versus-a-copy\n",
      "  young_women_1992['trendline'] = p(young_women_1992['Weight'])\n",
      "<ipython-input-95-c3090d9f8a12>:17: SettingWithCopyWarning: \n",
      "A value is trying to be set on a copy of a slice from a DataFrame.\n",
      "Try using .loc[row_indexer,col_indexer] = value instead\n",
      "\n",
      "See the caveats in the documentation: https://pandas.pydata.org/pandas-docs/stable/user_guide/indexing.html#returning-a-view-versus-a-copy\n",
      "  young_women_1919['trendline'] = p(young_women_1919['Weight'])\n",
      "<ipython-input-95-c3090d9f8a12>:28: SettingWithCopyWarning: \n",
      "A value is trying to be set on a copy of a slice from a DataFrame.\n",
      "Try using .loc[row_indexer,col_indexer] = value instead\n",
      "\n",
      "See the caveats in the documentation: https://pandas.pydata.org/pandas-docs/stable/user_guide/indexing.html#returning-a-view-versus-a-copy\n",
      "  young_athletes_1992['trendline'] = p(young_athletes_1992['Weight'])\n"
     ]
    },
    {
     "data": {
      "text/plain": [
       "<AxesSubplot:xlabel='Weight', ylabel='RMR'>"
      ]
     },
     "execution_count": 95,
     "metadata": {},
     "output_type": "execute_result"
    },
    {
     "data": {
      "image/png": "[encoded data removed]",
      "text/plain": [
       "<Figure size 432x288 with 1 Axes>"
      ]
     },
     "metadata": {
      "needs_background": "light"
     },
     "output_type": "display_data"
    }
   ],
   "source": [
    "young_women_1992 = df[(df['Yr']==1992) & (df['Age']<30) & (df['IS_ATHLETE']!=\"*\")]\n",
    "z = np.polyfit(x=young_women_1992['Weight'], y=young_women_1992['RMR'], deg=1)\n",
    "p = np.poly1d(z)\n",
    "young_women_1992['trendline'] = p(young_women_1992['Weight'])\n",
    "young_women_1992.head()\n",
    "plot1 = young_women_1992.plot(x='Weight', y='RMR', kind='scatter', label='1986')\n",
    "plot1.legend(title = \"RMR, Women Under 30\")\n",
    "young_women_1992.set_index('Weight', inplace=True)\n",
    "young_women_1992.trendline.sort_index(ascending=False).plot(ax=plot1)\n",
    "\n",
    "\n",
    "young_women_1919 = df[(df['Yr']==1919) & (df['Age']<30)]\n",
    "\n",
    "z = np.polyfit(x=young_women_1919['Weight'], y=young_women_1919['RMR'], deg=1)\n",
    "p = np.poly1d(z)\n",
    "young_women_1919['trendline'] = p(young_women_1919['Weight'])\n",
    "young_women_1919.head()\n",
    "plot2 = young_women_1919.plot(x='Weight', y='RMR', kind='scatter', color='yellow', label='1919', ax=plot1)\n",
    "\n",
    "young_women_1919.set_index('Weight', inplace=True)\n",
    "young_women_1919.trendline.sort_index(ascending=False).plot(ax=plot1)\n",
    "\n",
    "young_athletes_1992 = df[(df['Yr']==1992) & (df['Age']<30) & (df['IS_ATHLETE']==\"*\")]\n",
    "z = np.polyfit(x=young_athletes_1992['Weight'], y=young_athletes_1992['RMR'], deg=1)\n",
    "p = np.poly1d(z)\n",
    "young_athletes_1992['trendline'] = p(young_athletes_1992['Weight'])\n",
    "plot1 = young_athletes_1992.plot(x='Weight', y='RMR', kind='scatter', color=\"green\", label='1986 - Athletes', ax=plot1)\n",
    "young_athletes_1992.set_index('Weight', inplace=True)\n",
    "young_athletes_1992.trendline.sort_index(ascending=False).plot(ax=plot1)"
   ]
  },
  {
   "cell_type": "code",
   "execution_count": 96,
   "metadata": {
    "scrolled": true
   },
   "outputs": [
    {
     "name": "stderr",
     "output_type": "stream",
     "text": [
      "<ipython-input-96-cfeed43864c7>:4: SettingWithCopyWarning: \n",
      "A value is trying to be set on a copy of a slice from a DataFrame.\n",
      "Try using .loc[row_indexer,col_indexer] = value instead\n",
      "\n",
      "See the caveats in the documentation: https://pandas.pydata.org/pandas-docs/stable/user_guide/indexing.html#returning-a-view-versus-a-copy\n",
      "  older_women_1992['trendline'] = p(older_women_1992['Weight'])\n",
      "<ipython-input-96-cfeed43864c7>:19: SettingWithCopyWarning: \n",
      "A value is trying to be set on a copy of a slice from a DataFrame.\n",
      "Try using .loc[row_indexer,col_indexer] = value instead\n",
      "\n",
      "See the caveats in the documentation: https://pandas.pydata.org/pandas-docs/stable/user_guide/indexing.html#returning-a-view-versus-a-copy\n",
      "  older_women_1919['trendline'] = p(older_women_1919['Weight'])\n"
     ]
    },
    {
     "data": {
      "text/plain": [
       "<AxesSubplot:xlabel='Weight', ylabel='RMR'>"
      ]
     },
     "execution_count": 96,
     "metadata": {},
     "output_type": "execute_result"
    },
    {
     "data": {
      "image/png": "[encoded data removed]",
      "text/plain": [
       "<Figure size 432x288 with 1 Axes>"
      ]
     },
     "metadata": {
      "needs_background": "light"
     },
     "output_type": "display_data"
    }
   ],
   "source": [
    "older_women_1992 = df[(df['Yr']==1992) & (df['Age']>40)]\n",
    "z = np.polyfit(x=older_women_1992['Weight'], y=older_women_1992['RMR'], deg=1)\n",
    "p = np.poly1d(z)\n",
    "older_women_1992['trendline'] = p(older_women_1992['Weight'])\n",
    "plot1 = older_women_1992.plot(x='Weight', y='RMR', kind='scatter', label='1986')\n",
    "\n",
    "plot1.legend(title = \"RMR, Women Over 40\")\n",
    "plot1.set_xlabel('Weight (kg)')\n",
    "plot1.set_ylabel('RMR (cal/day)')\n",
    "\n",
    "older_women_1992.set_index('Weight', inplace=True)\n",
    "older_women_1992.trendline.sort_index(ascending=False).plot(ax=plot1, label='1986')\n",
    "\n",
    "older_women_1919 = df[(df['Yr']==1919) & (df['Age']>40)]\n",
    "\n",
    "z = np.polyfit(x=older_women_1919['Weight'], y=older_women_1919['RMR'], deg=1)\n",
    "p = np.poly1d(z)\n",
    "older_women_1919['trendline'] = p(older_women_1919['Weight'])\n",
    "older_women_1919.head()\n",
    "plot2 = older_women_1919.plot(x='Weight', y='RMR', kind='scatter', color='yellow', label='1919',  ax=plot1)\n",
    "\n",
    "older_women_1919.set_index('Weight', inplace=True)\n",
    "older_women_1919.trendline.sort_index(ascending=False).plot(ax=plot1)\n"
   ]
  },
  {
   "cell_type": "code",
   "execution_count": 77,
   "metadata": {},
   "outputs": [
    {
     "data": {
      "text/plain": [
       "20.757894736842104"
      ]
     },
     "execution_count": 77,
     "metadata": {},
     "output_type": "execute_result"
    }
   ],
   "source": [
    "np.mean(young_women_1992['RMR/Kg'])"
   ]
  },
  {
   "cell_type": "code",
   "execution_count": 78,
   "metadata": {},
   "outputs": [
    {
     "data": {
      "text/plain": [
       "25.601492537313433"
      ]
     },
     "execution_count": 78,
     "metadata": {},
     "output_type": "execute_result"
    }
   ],
   "source": [
    "np.mean(young_women_1919['RMR/Kg'])"
   ]
  },
  {
   "cell_type": "code",
   "execution_count": 81,
   "metadata": {},
   "outputs": [
    {
     "data": {
      "text/plain": [
       "6.693593689590987e-09"
      ]
     },
     "execution_count": 81,
     "metadata": {},
     "output_type": "execute_result"
    }
   ],
   "source": [
    "t, p =  f_oneway(young_women_1919['RMR/Kg'], young_women_1992['RMR/Kg'])\n",
    "p"
   ]
  },
  {
   "cell_type": "code",
   "execution_count": null,
   "metadata": {},
   "outputs": [],
   "source": []
  }
 ],
 "metadata": {
  "kernelspec": {
   "display_name": "Python 3",
   "language": "python",
   "name": "python3"
  },
  "language_info": {
   "codemirror_mode": {
    "name": "ipython",
    "version": 3
   },
   "file_extension": ".py",
   "mimetype": "text/x-python",
   "name": "python",
   "nbconvert_exporter": "python",
   "pygments_lexer": "ipython3",
   "version": "3.8.5"
  }
 },
 "nbformat": 4,
 "nbformat_minor": 4
}
